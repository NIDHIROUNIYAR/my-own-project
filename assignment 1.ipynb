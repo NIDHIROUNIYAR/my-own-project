{
 "cells": [
  {
   "cell_type": "code",
   "execution_count": 8,
   "id": "8c211484-d470-421b-834d-17563977317c",
   "metadata": {},
   "outputs": [
    {
     "name": "stdin",
     "output_type": "stream",
     "text": [
      "Enter the principal amount (P):  1000\n",
      "Enter the rate of interest (R):  5\n",
      "Enter the time in years (T):  2\n"
     ]
    },
    {
     "name": "stdout",
     "output_type": "stream",
     "text": [
      "The simple interest is: 100.00\n"
     ]
    }
   ],
   "source": [
    "# Function to calculate simple interest\n",
    "def calculate_simple_interest(principal, rate, time):\n",
    "    return (principal * rate * time) / 100\n",
    "\n",
    "# Main function\n",
    "def main():\n",
    "    try:\n",
    "        # Taking input from the user\n",
    "        principal = float(input(\"Enter the principal amount (P): \"))\n",
    "        rate = float(input(\"Enter the rate of interest (R): \"))\n",
    "        time = float(input(\"Enter the time in years (T): \"))\n",
    "\n",
    "        # Calculating simple interest\n",
    "        simple_interest = calculate_simple_interest(principal, rate, time)\n",
    "\n",
    "        # Displaying the result\n",
    "        print(f\"The simple interest is: {simple_interest:.2f}\")\n",
    "\n",
    "    except ValueError:\n",
    "        print(\"Please enter valid numeric values.\")\n",
    "\n",
    "# Entry point of the program\n",
    "if __name__ == \"__main__\":\n",
    "    main()"
   ]
  },
  {
   "cell_type": "code",
   "execution_count": 10,
   "id": "b95fed19-36eb-41c7-91db-8104fdeef1af",
   "metadata": {},
   "outputs": [
    {
     "name": "stdin",
     "output_type": "stream",
     "text": [
      "Enter the temperature in Celsius:  25\n"
     ]
    },
    {
     "name": "stdout",
     "output_type": "stream",
     "text": [
      "The temperature in Fahrenheit is: 77.00°F\n"
     ]
    }
   ],
   "source": [
    "# Function to convert Celsius to Fahrenheit\n",
    "def celsius_to_fahrenheit(celsius):\n",
    "    return (9 / 5) * celsius + 32\n",
    "\n",
    "# Main function\n",
    "def main():\n",
    "    try:\n",
    "        # Taking input from the user\n",
    "        celsius = float(input(\"Enter the temperature in Celsius: \"))\n",
    "\n",
    "        # Converting to Fahrenheit\n",
    "        fahrenheit = celsius_to_fahrenheit(celsius)\n",
    "\n",
    "        # Displaying the result\n",
    "        print(f\"The temperature in Fahrenheit is: {fahrenheit:.2f}°F\")\n",
    "\n",
    "    except ValueError:\n",
    "        print(\"Please enter a valid numeric value.\")\n",
    "\n",
    "# Entry point of the program\n",
    "if __name__ == \"__main__\":\n",
    "    main()"
   ]
  },
  {
   "cell_type": "code",
   "execution_count": 16,
   "id": "4d08f941-645a-4a65-9eb7-544a58ebca4f",
   "metadata": {},
   "outputs": [
    {
     "name": "stdin",
     "output_type": "stream",
     "text": [
      "Enter the number of people:  5\n"
     ]
    },
    {
     "name": "stdout",
     "output_type": "stream",
     "text": [
      "Each person needs to pay: Rs 1314.00\n"
     ]
    }
   ],
   "source": [
    "# Function to split the bill\n",
    "def split_bill(total_bill, number_of_people):\n",
    "    if number_of_people == 0:\n",
    "        return 0  # Avoid division by zero\n",
    "    return total_bill / number_of_people\n",
    "\n",
    "# Main function\n",
    "def main():\n",
    "    total_bill = 6570  # Total bill amount\n",
    "    try:\n",
    "        # Taking input for the number of people\n",
    "        number_of_people = int(input(\"Enter the number of people: \"))\n",
    "        \n",
    "        # Calculating the amount per person\n",
    "        amount_per_person = split_bill(total_bill, number_of_people)\n",
    "\n",
    "        if number_of_people > 0:\n",
    "            # Displaying the result\n",
    "            print(f\"Each person needs to pay: Rs {amount_per_person:.2f}\")\n",
    "        else:\n",
    "            print(\"The number of people must be greater than zero.\")\n",
    "\n",
    "    except ValueError:\n",
    "        print(\"Please enter a valid numeric value for the number of people.\")\n",
    "\n",
    "# Entry point of the program\n",
    "if __name__ == \"__main__\":\n",
    "    main()"
   ]
  },
  {
   "cell_type": "code",
   "execution_count": 18,
   "id": "84bf144c-c12a-4803-9ccc-c3340d938f96",
   "metadata": {},
   "outputs": [
    {
     "name": "stdin",
     "output_type": "stream",
     "text": [
      "Enter a year:  2020\n"
     ]
    },
    {
     "name": "stdout",
     "output_type": "stream",
     "text": [
      "2020 is a leap year.\n"
     ]
    }
   ],
   "source": [
    "# Function to check if a year is a leap year\n",
    "def is_leap_year(year):\n",
    "    if (year % 4 == 0 and year % 100 != 0) or (year % 400 == 0):\n",
    "        return True\n",
    "    return False\n",
    "\n",
    "# Main function\n",
    "def main():\n",
    "    try:\n",
    "        # Taking input from the user\n",
    "        year = int(input(\"Enter a year: \"))\n",
    "        \n",
    "        # Checking if the year is a leap year\n",
    "        \n",
    "        if is_leap_year(year):\n",
    "            print(f\"{year} is a leap year.\")\n",
    "        else:\n",
    "            print(f\"{year} is not a leap year.\")\n",
    "\n",
    "    except ValueError:\n",
    "        print(\"Please enter a valid numeric year.\")\n",
    "\n",
    "# Entry point of the program\n",
    "if __name__ == \"__main__\":\n",
    "    main()"
   ]
  },
  {
   "cell_type": "code",
   "execution_count": 20,
   "id": "331ffe8a-54d4-4be0-86d3-4ea6a83b7ef3",
   "metadata": {},
   "outputs": [
    {
     "name": "stdin",
     "output_type": "stream",
     "text": [
      "Enter the name of item 1:  apple\n",
      "Enter the price of apple:  50\n",
      "Enter the name of item 2:  banana\n",
      "Enter the price of banana:  30\n",
      "Enter the name of item 3:  milk\n",
      "Enter the price of milk:  25\n",
      "Enter the name of item 4:  orange\n",
      "Enter the price of orange:  35\n",
      "Enter the name of item 5:  dry fruit\n",
      "Enter the price of dry fruit:  150\n"
     ]
    },
    {
     "name": "stdout",
     "output_type": "stream",
     "text": [
      "\n",
      "Items entered:\n",
      "Item: apple, Price: Rs 50.00\n",
      "Item: banana, Price: Rs 30.00\n",
      "Item: milk, Price: Rs 25.00\n",
      "Item: orange, Price: Rs 35.00\n",
      "Item: dry fruit, Price: Rs 150.00\n",
      "\n",
      "Total cost of all items: Rs 290.00\n"
     ]
    }
   ],
   "source": [
    "# Function to get item details and calculate total cost\n",
    "def get_items_and_total_cost():\n",
    "    items = []\n",
    "    total_cost = 0.0\n",
    "    \n",
    "    # Loop to input 5 items\n",
    "    for i in range(5):\n",
    "        item_name = input(f\"Enter the name of item {i + 1}: \")\n",
    "        try:\n",
    "            item_price = float(input(f\"Enter the price of {item_name}: \"))\n",
    "            items.append((item_name, item_price))  # Store as a tuple (name, price)\n",
    "            total_cost += item_price\n",
    "        except ValueError:\n",
    "            print(\"Please enter a valid price. This item will be skipped.\")\n",
    "    \n",
    "    return items, total_cost\n",
    "\n",
    "# Main function\n",
    "def main():\n",
    "    items, total_cost = get_items_and_total_cost()\n",
    "\n",
    "    # Displaying the items and total cost\n",
    "    print(\"\\nItems entered:\")\n",
    "    for item in items:\n",
    "        print(f\"Item: {item[0]}, Price: Rs {item[1]:.2f}\")\n",
    "\n",
    "    print(f\"\\nTotal cost of all items: Rs {total_cost:.2f}\")\n",
    "\n",
    "# Entry point of the program\n",
    "if __name__ == \"__main__\":\n",
    "    main()\n",
    "    "
   ]
  },
  {
   "cell_type": "code",
   "execution_count": 22,
   "id": "098d468d-4e77-4011-bc9a-98df2280a078",
   "metadata": {},
   "outputs": [
    {
     "name": "stdin",
     "output_type": "stream",
     "text": [
      "Enter a string:  hello world\n"
     ]
    },
    {
     "name": "stdout",
     "output_type": "stream",
     "text": [
      "The number of vowels in the given string is: 3\n"
     ]
    }
   ],
   "source": [
    "# Function to count vowels in a string\n",
    "def count_vowels(input_string):\n",
    "    vowels = \"aeiouAEIOU\"  # String containing all vowels (both lowercase and uppercase)\n",
    "    count = 0\n",
    "    \n",
    "    # Loop through each character in the string\n",
    "    for char in input_string:\n",
    "        if char in vowels:\n",
    "            count += 1\n",
    "    \n",
    "    return count\n",
    "\n",
    "# Main function\n",
    "def main():\n",
    "    # Taking input from the user\n",
    "    input_string = input(\"Enter a string: \")\n",
    "    \n",
    "    # Counting the vowels\n",
    "    vowel_count = count_vowels(input_string)\n",
    "    \n",
    "    # Displaying the result\n",
    "    print(f\"The number of vowels in the given string is: {vowel_count}\")\n",
    "\n",
    "# Entry point of the program\n",
    "if __name__ == \"__main__\":\n",
    "    main()\n",
    "    "
   ]
  },
  {
   "cell_type": "code",
   "execution_count": 26,
   "id": "ec859628-0924-4c18-8d40-08c0b12883a0",
   "metadata": {},
   "outputs": [
    {
     "name": "stdin",
     "output_type": "stream",
     "text": [
      "Enter your password:  password123\n"
     ]
    },
    {
     "name": "stdout",
     "output_type": "stream",
     "text": [
      "Your password is invalid. It must be at least 8 characters long and contain at least one uppercase letter and one number.\n"
     ]
    }
   ],
   "source": [
    "import re\n",
    "\n",
    "# Function to check if the password is valid\n",
    "def is_valid_password(password):\n",
    "    # Check length\n",
    "    if len(password) < 8:\n",
    "        return False\n",
    "    \n",
    "    # Check for at least one uppercase letter and one number\n",
    "    has_uppercase = re.search(r'[A-Z]', password) is not None\n",
    "    has_number = re.search(r'[0-9]', password) is not None\n",
    "    \n",
    "    return has_uppercase and has_number\n",
    "\n",
    "# Main function\n",
    "def main():\n",
    "    # Taking input from the user\n",
    "    password = input(\"Enter your password: \")\n",
    "    \n",
    "    # Validating the password\n",
    "    if is_valid_password(password):\n",
    "        print(\"Your password is valid.\")\n",
    "    else:\n",
    "        print(\"Your password is invalid. It must be at least 8 characters long and contain at least one uppercase letter and one number.\")\n",
    "\n",
    "# Entry point of the program\n",
    "if __name__ == \"__main__\":\n",
    "    main()\n",
    "    "
   ]
  },
  {
   "cell_type": "code",
   "execution_count": 28,
   "id": "724b7ee0-fe52-408c-819b-9c6c2398e433",
   "metadata": {},
   "outputs": [
    {
     "name": "stdin",
     "output_type": "stream",
     "text": [
      "Enter your age:  20\n"
     ]
    },
    {
     "name": "stdout",
     "output_type": "stream",
     "text": [
      "The ticket price is: Rs 450\n"
     ]
    }
   ],
   "source": [
    "# Function to calculate ticket price based on age\n",
    "def calculate_ticket_price(age):\n",
    "    if age < 18:\n",
    "        return 108\n",
    "    elif 18 <= age <= 60:\n",
    "        return 450\n",
    "    else:  # age > 60\n",
    "        return 150\n",
    "\n",
    "# Main function\n",
    "def main():\n",
    "    try:\n",
    "        # Taking input from the user\n",
    "        age = int(input(\"Enter your age: \"))\n",
    "        \n",
    "        # Calculating the ticket price\n",
    "        ticket_price = calculate_ticket_price(age)\n",
    "        \n",
    "        # Displaying the ticket price\n",
    "        print(f\"The ticket price is: Rs {ticket_price}\")\n",
    "\n",
    "    except ValueError:\n",
    "        print(\"Please enter a valid numeric age.\")\n",
    "\n",
    "# Entry point of the program\n",
    "if __name__ == \"__main__\":\n",
    "    main()\n",
    "    "
   ]
  },
  {
   "cell_type": "code",
   "execution_count": 30,
   "id": "e59cd9c3-982a-47df-aff4-5ab4110ffb92",
   "metadata": {},
   "outputs": [
    {
     "name": "stdin",
     "output_type": "stream",
     "text": [
      "Enter an integer:  5\n"
     ]
    },
    {
     "name": "stdout",
     "output_type": "stream",
     "text": [
      "Multiplication table for 5:\n",
      "5 x 1 = 5\n",
      "5 x 2 = 10\n",
      "5 x 3 = 15\n",
      "5 x 4 = 20\n",
      "5 x 5 = 25\n",
      "5 x 6 = 30\n",
      "5 x 7 = 35\n",
      "5 x 8 = 40\n",
      "5 x 9 = 45\n",
      "5 x 10 = 50\n"
     ]
    }
   ],
   "source": [
    "# Function to print the multiplication table for a given number\n",
    "def print_multiplication_table(number):\n",
    "    print(f\"Multiplication table for {number}:\")\n",
    "    for i in range(1, 11):\n",
    "        result = number * i\n",
    "        print(f\"{number} x {i} = {result}\")\n",
    "\n",
    "# Main function\n",
    "def main():\n",
    "    try:\n",
    "        # Taking input from the user\n",
    "        number = int(input(\"Enter an integer: \"))\n",
    "        \n",
    "        # Printing the multiplication table\n",
    "        print_multiplication_table(number)\n",
    "\n",
    "    except ValueError:\n",
    "        print(\"Please enter a valid integer.\")\n",
    "\n",
    "# Entry point of the program\n",
    "if __name__ == \"__main__\":\n",
    "    main()\n",
    "    "
   ]
  },
  {
   "cell_type": "code",
   "execution_count": 32,
   "id": "92637516-48a6-47c3-a8de-ea6a75a95bed",
   "metadata": {},
   "outputs": [
    {
     "name": "stdin",
     "output_type": "stream",
     "text": [
      "Enter a number N:  10\n"
     ]
    },
    {
     "name": "stdout",
     "output_type": "stream",
     "text": [
      "The sum of all even numbers between 1 and 10 (inclusive) is: 30\n"
     ]
    }
   ],
   "source": [
    "# Function to calculate the sum of even numbers up to N\n",
    "def sum_of_even_numbers(N):\n",
    "    total = 0\n",
    "    for number in range(1, N + 1):\n",
    "        if number % 2 == 0:\n",
    "            total += number\n",
    "    return total\n",
    "\n",
    "# Main function\n",
    "def main():\n",
    "    try:\n",
    "        # Taking input from the user\n",
    "        N = int(input(\"Enter a number N: \"))\n",
    "        \n",
    "        # Calculating the sum of even numbers\n",
    "        even_sum = sum_of_even_numbers(N)\n",
    "        \n",
    "        # Displaying the result\n",
    "        print(f\"The sum of all even numbers between 1 and {N} (inclusive) is: {even_sum}\")\n",
    "\n",
    "    except ValueError:\n",
    "        print(\"Please enter a valid integer.\")\n",
    "\n",
    "# Entry point of the program\n",
    "if __name__ == \"__main__\":\n",
    "    main()"
   ]
  },
  {
   "cell_type": "code",
   "execution_count": null,
   "id": "f9ef0116-8a19-45f1-9876-c48f04aed139",
   "metadata": {},
   "outputs": [],
   "source": []
  }
 ],
 "metadata": {
  "kernelspec": {
   "display_name": "Python 3 (ipykernel)",
   "language": "python",
   "name": "python3"
  },
  "language_info": {
   "codemirror_mode": {
    "name": "ipython",
    "version": 3
   },
   "file_extension": ".py",
   "mimetype": "text/x-python",
   "name": "python",
   "nbconvert_exporter": "python",
   "pygments_lexer": "ipython3",
   "version": "3.12.4"
  }
 },
 "nbformat": 4,
 "nbformat_minor": 5
}
